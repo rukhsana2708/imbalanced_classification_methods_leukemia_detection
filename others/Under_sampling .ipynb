{
 "cells": [
  {
   "cell_type": "markdown",
   "id": "8468ad0d",
   "metadata": {},
   "source": [
    "# Undersampling"
   ]
  },
  {
   "cell_type": "code",
   "execution_count": 1,
   "id": "cfc764c8",
   "metadata": {},
   "outputs": [
    {
     "ename": "FileNotFoundError",
     "evalue": "[WinError 3] The system cannot find the path specified: 'C:\\\\Users\\\\User\\\\Downloads\\\\drive-download-20240919T191325Z-001\\\\C-NMC\\\\C-NMC\\\\High Imbalance\\\\Train - 1 to 100 ratio\\\\hem'",
     "output_type": "error",
     "traceback": [
      "\u001b[1;31m---------------------------------------------------------------------------\u001b[0m",
      "\u001b[1;31mFileNotFoundError\u001b[0m                         Traceback (most recent call last)",
      "Cell \u001b[1;32mIn[1], line 7\u001b[0m\n\u001b[0;32m      5\u001b[0m source \u001b[38;5;241m=\u001b[39m \u001b[38;5;124mr\u001b[39m\u001b[38;5;124m\"\u001b[39m\u001b[38;5;124mC:\u001b[39m\u001b[38;5;124m\\\u001b[39m\u001b[38;5;124mUsers\u001b[39m\u001b[38;5;124m\\\u001b[39m\u001b[38;5;124mUser\u001b[39m\u001b[38;5;124m\\\u001b[39m\u001b[38;5;124mDownloads\u001b[39m\u001b[38;5;124m\\\u001b[39m\u001b[38;5;124mdrive-download-20240919T191325Z-001\u001b[39m\u001b[38;5;124m\\\u001b[39m\u001b[38;5;124mC-NMC\u001b[39m\u001b[38;5;124m\\\u001b[39m\u001b[38;5;124mC-NMC\u001b[39m\u001b[38;5;124m\\\u001b[39m\u001b[38;5;124mHigh Imbalance\u001b[39m\u001b[38;5;124m\\\u001b[39m\u001b[38;5;124mTrain - 1 to 100 ratio\u001b[39m\u001b[38;5;124m\\\u001b[39m\u001b[38;5;124mhem\u001b[39m\u001b[38;5;124m\"\u001b[39m\n\u001b[0;32m      6\u001b[0m dest \u001b[38;5;241m=\u001b[39m \u001b[38;5;124mr\u001b[39m\u001b[38;5;124m\"\u001b[39m\u001b[38;5;124mC:\u001b[39m\u001b[38;5;124m\\\u001b[39m\u001b[38;5;124mUsers\u001b[39m\u001b[38;5;124m\\\u001b[39m\u001b[38;5;124mUser\u001b[39m\u001b[38;5;124m\\\u001b[39m\u001b[38;5;124mDownloads\u001b[39m\u001b[38;5;124m\\\u001b[39m\u001b[38;5;124mdrive-download-20240919T191325Z-001\u001b[39m\u001b[38;5;124m\\\u001b[39m\u001b[38;5;124mC-NMC\u001b[39m\u001b[38;5;124m\\\u001b[39m\u001b[38;5;124mC-NMC\u001b[39m\u001b[38;5;124m\\\u001b[39m\u001b[38;5;124mHigh Imbalance\u001b[39m\u001b[38;5;124m\\\u001b[39m\u001b[38;5;124mMajority Class Undersample\u001b[39m\u001b[38;5;124m\\\u001b[39m\u001b[38;5;124menhanced\u001b[39m\u001b[38;5;124m\\\u001b[39m\u001b[38;5;124mhem\u001b[39m\u001b[38;5;124m\"\u001b[39m\n\u001b[1;32m----> 7\u001b[0m files \u001b[38;5;241m=\u001b[39m \u001b[43mos\u001b[49m\u001b[38;5;241;43m.\u001b[39;49m\u001b[43mlistdir\u001b[49m\u001b[43m(\u001b[49m\u001b[43msource\u001b[49m\u001b[43m)\u001b[49m\n\u001b[0;32m      9\u001b[0m percentage \u001b[38;5;241m=\u001b[39m \u001b[38;5;241m50\u001b[39m \u001b[38;5;66;03m#High Imbalance\u001b[39;00m\n\u001b[0;32m     10\u001b[0m \u001b[38;5;66;03m# percentage = 10 #Low Imbalance\u001b[39;00m\n",
      "\u001b[1;31mFileNotFoundError\u001b[0m: [WinError 3] The system cannot find the path specified: 'C:\\\\Users\\\\User\\\\Downloads\\\\drive-download-20240919T191325Z-001\\\\C-NMC\\\\C-NMC\\\\High Imbalance\\\\Train - 1 to 100 ratio\\\\hem'"
     ]
    }
   ],
   "source": [
    "import os\n",
    "import random\n",
    "import shutil\n",
    "\n",
    "source = r\"C:\\Users\\User\\Downloads\\drive-download-20240919T191325Z-001\\C-NMC\\C-NMC\\High Imbalance\\Train - 1 to 100 ratio\\hem\"\n",
    "dest = r\"C:\\Users\\User\\Downloads\\drive-download-20240919T191325Z-001\\C-NMC\\C-NMC\\High Imbalance\\Majority Class Undersample\\enhanced\\hem\"\n",
    "files = os.listdir(source)\n",
    "\n",
    "percentage = 50 #High Imbalance\n",
    "# percentage = 10 #Low Imbalance\n",
    "\n",
    "no_of_files = int((percentage/100)*len(files))\n",
    "print(no_of_files)\n",
    "# no_of_files = len(files) // 5\n",
    "\n",
    "for file_name in random.sample(files, no_of_files):\n",
    "    shutil.copy(os.path.join(source, file_name), dest)\n",
    "print('Done')"
   ]
  },
  {
   "cell_type": "code",
   "execution_count": null,
   "id": "da92d8bc-259a-41b2-9b30-4c85b8ecb1d1",
   "metadata": {},
   "outputs": [],
   "source": []
  }
 ],
 "metadata": {
  "kernelspec": {
   "display_name": "Python 3 (ipykernel)",
   "language": "python",
   "name": "python3"
  },
  "language_info": {
   "codemirror_mode": {
    "name": "ipython",
    "version": 3
   },
   "file_extension": ".py",
   "mimetype": "text/x-python",
   "name": "python",
   "nbconvert_exporter": "python",
   "pygments_lexer": "ipython3",
   "version": "3.10.13"
  }
 },
 "nbformat": 4,
 "nbformat_minor": 5
}
