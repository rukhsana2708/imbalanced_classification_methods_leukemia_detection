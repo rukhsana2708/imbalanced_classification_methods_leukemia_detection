{
  "cells": [
    {
      "cell_type": "markdown",
      "id": "8468ad0d",
      "metadata": {
        "id": "8468ad0d"
      },
      "source": [
        "# Undersampling"
      ]
    },
    {
      "cell_type": "code",
      "source": [
        "# prompt: connect with drive\n",
        "\n",
        "from google.colab import drive\n",
        "drive.mount('/content/drive')\n"
      ],
      "metadata": {
        "colab": {
          "base_uri": "https://localhost:8080/"
        },
        "id": "kB9A6srKGMTu",
        "outputId": "786e6509-a87e-49bd-f0ee-be5aca87d6b6"
      },
      "id": "kB9A6srKGMTu",
      "execution_count": null,
      "outputs": [
        {
          "output_type": "stream",
          "name": "stdout",
          "text": [
            "Mounted at /content/drive\n"
          ]
        }
      ]
    },
    {
      "cell_type": "code",
      "execution_count": null,
      "id": "cfc764c8",
      "metadata": {
        "colab": {
          "base_uri": "https://localhost:8080/"
        },
        "id": "cfc764c8",
        "outputId": "7b82a7ff-4cce-4d06-e0d4-2dfc361aa83f"
      },
      "outputs": [
        {
          "output_type": "stream",
          "name": "stdout",
          "text": [
            "1711\n",
            "Done\n"
          ]
        }
      ],
      "source": [
        "import os\n",
        "import random\n",
        "import shutil\n",
        "\n",
        "source = r\"/content/drive/MyDrive/Colab Notebooks/dataset/CNMC/High Imbalance/Train - 1 to 100 ratio/enhanced/hem\"\n",
        "dest = r\"/content/drive/MyDrive/Colab Notebooks/dataset/CNMC/High Imbalance/Majority Class Undersample/hem\"\n",
        "files = os.listdir(source)\n",
        "\n",
        "percentage = 50 #High Imbalance\n",
        "# percentage = 10 #Low Imbalance\n",
        "\n",
        "no_of_files = int((percentage/100)*len(files))\n",
        "print(no_of_files)\n",
        "# no_of_files = len(files) // 5\n",
        "\n",
        "for file_name in random.sample(files, no_of_files):\n",
        "    shutil.copy(os.path.join(source, file_name), dest)\n",
        "print('Done')"
      ]
    },
    {
      "cell_type": "code",
      "execution_count": null,
      "id": "da92d8bc-259a-41b2-9b30-4c85b8ecb1d1",
      "metadata": {
        "id": "da92d8bc-259a-41b2-9b30-4c85b8ecb1d1"
      },
      "outputs": [],
      "source": []
    }
  ],
  "metadata": {
    "kernelspec": {
      "display_name": "Python 3 (ipykernel)",
      "language": "python",
      "name": "python3"
    },
    "language_info": {
      "codemirror_mode": {
        "name": "ipython",
        "version": 3
      },
      "file_extension": ".py",
      "mimetype": "text/x-python",
      "name": "python",
      "nbconvert_exporter": "python",
      "pygments_lexer": "ipython3",
      "version": "3.10.13"
    },
    "colab": {
      "provenance": []
    }
  },
  "nbformat": 4,
  "nbformat_minor": 5
}